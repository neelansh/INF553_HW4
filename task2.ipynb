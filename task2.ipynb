{
 "cells": [
  {
   "cell_type": "code",
   "execution_count": 1,
   "metadata": {},
   "outputs": [],
   "source": [
    "import os\n",
    "import sys\n",
    "from pyspark import SparkContext, SparkConf\n",
    "import json\n",
    "import itertools\n",
    "import math\n",
    "import time\n",
    "from queue import deque"
   ]
  },
  {
   "cell_type": "code",
   "execution_count": 2,
   "metadata": {},
   "outputs": [
    {
     "data": {
      "text/html": [
       "\n",
       "        <div>\n",
       "            <p><b>SparkContext</b></p>\n",
       "\n",
       "            <p><a href=\"http://ckg03:4041\">Spark UI</a></p>\n",
       "\n",
       "            <dl>\n",
       "              <dt>Version</dt>\n",
       "                <dd><code>v2.4.4</code></dd>\n",
       "              <dt>Master</dt>\n",
       "                <dd><code>local[*]</code></dd>\n",
       "              <dt>AppName</dt>\n",
       "                <dd><code>assignment4</code></dd>\n",
       "            </dl>\n",
       "        </div>\n",
       "        "
      ],
      "text/plain": [
       "<SparkContext master=local[*] appName=assignment4>"
      ]
     },
     "execution_count": 2,
     "metadata": {},
     "output_type": "execute_result"
    }
   ],
   "source": [
    "appName = 'assignment4'\n",
    "master = 'local[*]'\n",
    "conf = SparkConf().setAppName(appName).setMaster(master)#.set('spark.jars.packages','graphframes:graphframes:0.6.0-spark2.3-s_2.11')\n",
    "# conf = conf.setAll([('spark.executor.memory', '8g'), ('spark.executor.cores', '3'), ('spark.cores.max', '3'), ('spark.driver.memory','8g')])\n",
    "sc = SparkContext(conf=conf)\n",
    "sc.setLogLevel(\"INFO\")\n",
    "sc"
   ]
  },
  {
   "cell_type": "code",
   "execution_count": 3,
   "metadata": {},
   "outputs": [],
   "source": [
    "def create_adjacency_list(edges, vertices):\n",
    "    adjacency_list = {}\n",
    "    for (x, y) in edges:\n",
    "        if(x in adjacency_list):\n",
    "            adjacency_list[x].add(y)\n",
    "        else:\n",
    "            adjacency_list[x] = set([y])\n",
    "\n",
    "        if(y in adjacency_list):\n",
    "            adjacency_list[y].add(x)\n",
    "        else:\n",
    "            adjacency_list[y] = set([x])\n",
    "    \n",
    "    for v in set(vertices) - set(adjacency_list.keys()):\n",
    "        adjacency_list[v] = set([])\n",
    "            \n",
    "    return adjacency_list\n",
    "\n",
    "class Node:\n",
    "    def __init__(self, idx, level, number_of_shortest_paths):\n",
    "        self.id = idx\n",
    "        self.level = level\n",
    "        self.parent = []\n",
    "        self.children = []\n",
    "        self.number_of_shortest_paths = number_of_shortest_paths\n",
    "        self.credit = 1\n",
    "        return\n",
    "    \n",
    "    def __str__(self):\n",
    "        return \"{}, {}, {}\".format(self.id, self.level, self.number_of_shortest_paths)\n",
    "    \n",
    "    def __repr__(self):\n",
    "        return str(self)\n",
    "    \n",
    "class LevelIDMapper:\n",
    "    def __init__(self):\n",
    "        self.map = {}\n",
    "        \n",
    "    def update(self, level, node):\n",
    "        if(level in self.map):\n",
    "            self.map[level][node.id] = node\n",
    "        else:\n",
    "            self.map[level] = {node.id: node}\n",
    "            \n",
    "    def check_level(self, level, node_id):\n",
    "        if(not level in self.map):\n",
    "            return False\n",
    "        \n",
    "        return node_id in self.map[level]\n",
    "    \n",
    "    def get_node(self, level, node_id):\n",
    "        \n",
    "        if(not level in self.map):\n",
    "            return False\n",
    "        \n",
    "        if(not node_id in self.map[level]):\n",
    "            return False\n",
    "        \n",
    "        return self.map[level][node_id]\n",
    "    \n",
    "    \n",
    "def BFS(start, adjacency_list):\n",
    "    q = deque()\n",
    "    start_node = Node(start, 0, 1)\n",
    "    q.append(start_node)\n",
    "    visited = set()\n",
    "    visited.add(start)\n",
    "    leaf_nodes = []\n",
    "    level_node_map = LevelIDMapper()\n",
    "    level_node_map.update(0, start_node)\n",
    "    \n",
    "    while(len(q) != 0):\n",
    "        \n",
    "        current_node = q.popleft()\n",
    "        \n",
    "        for child in adjacency_list[current_node.id]:\n",
    "            if(child in visited and level_node_map.check_level(current_node.level+1, child)):\n",
    "                child_node = level_node_map.get_node(current_node.level+1, child)\n",
    "                child_node.parent.append(current_node)\n",
    "                current_node.children.append(child_node)\n",
    "                child_node.number_of_shortest_paths += current_node.number_of_shortest_paths\n",
    "                level_node_map.update(current_node.level+1, child_node)\n",
    "            if(not child in visited):\n",
    "                child_node = Node(child, current_node.level+1, current_node.number_of_shortest_paths)\n",
    "                child_node.parent.append(current_node)\n",
    "                current_node.children.append(child_node)\n",
    "                visited.add(child_node.id)\n",
    "                q.append(child_node)\n",
    "                level_node_map.update(current_node.level+1, child_node)\n",
    "    \n",
    "    \n",
    "    return level_node_map, tuple(sorted(visited))\n",
    "            \n",
    "\n",
    "class EdgeCredit:\n",
    "    def __init__(self):\n",
    "        self.map = {}\n",
    "    \n",
    "    def update(self, edge, credit):\n",
    "        edge = tuple(sorted(edge))\n",
    "        if(edge in self.map):\n",
    "            self.map[edge] += credit\n",
    "        else:\n",
    "            self.map[edge] = credit\n",
    "            \n",
    "    def divide_by_2(self):\n",
    "        for edge in self.map.keys():\n",
    "            self.map[edge] = self.map[edge] / 2.0\n",
    "        return\n",
    "\n",
    "def calculate_modularity(adjacency_list, communities, m):\n",
    "    communities = list(communities)\n",
    "    def helper(community):\n",
    "        modularity = 0\n",
    "        for (i, j) in itertools.combinations(community, 2):\n",
    "            Aij = 1 if j in adjacency_list[i] else 0\n",
    "            ki = len(adjacency_list[i])\n",
    "            kj = len(adjacency_list[j])\n",
    "            modularity += Aij-((ki*kj)/(2*m))\n",
    "            \n",
    "        return modularity\n",
    "    \n",
    "    modularity = sc.parallelize(communities).map(helper).reduce(lambda x, y: x+y)\n",
    "        \n",
    "            \n",
    "    return modularity/(2*m)\n",
    "            \n",
    "    \n",
    "    \n",
    "def calculate_betweeness_and_communities(adjacency_list, vertices):\n",
    "    ec = EdgeCredit()\n",
    "    communities = set()\n",
    "    for v in vertices:\n",
    "        level_node_map, community = BFS(v, adjacency_list)\n",
    "        communities.add(community)\n",
    "        for level in sorted(level_node_map.map.keys(), reverse=True):\n",
    "            for _, node in level_node_map.map[level].items():\n",
    "                total_shortest_path = sum([parent.number_of_shortest_paths for parent in node.parent])\n",
    "                for parent in node.parent:\n",
    "                    credit = node.credit * parent.number_of_shortest_paths / total_shortest_path\n",
    "                    parent.credit += credit\n",
    "                    ec.update((node.id, parent.id), credit)\n",
    "    \n",
    "    ec.divide_by_2()   \n",
    "    ec = sorted([(edge, credit)for edge, credit in ec.map.items()], key=lambda x: x[0][0])\n",
    "    ec = sorted(ec, key=lambda x: -x[1])\n",
    "    return ec, communities"
   ]
  },
  {
   "cell_type": "code",
   "execution_count": 9,
   "metadata": {},
   "outputs": [
    {
     "name": "stdout",
     "output_type": "stream",
     "text": [
      "1 0.0009773572308554238\n",
      "2 0.22176415264435748\n",
      "3 0.3062761623515298\n",
      "4 0.3537134701694212\n",
      "5 0.37882567285059604\n",
      "6 0.3852569209927354\n",
      "7 0.3928985205327187\n",
      "8 0.4027403159705413\n",
      "9 0.4094596850040664\n",
      "10 0.4125626190859069\n",
      "11 0.4156874820305154\n",
      "12 0.4169304221549739\n",
      "15 0.4169779346909744\n",
      "16 0.417058340521128\n",
      "17 0.41785143439128\n",
      "18 0.4189722429328157\n",
      "19 0.4193048306848147\n",
      "118.42400121688843\n"
     ]
    }
   ],
   "source": [
    "def save_edge_credits(output_path, output):\n",
    "    with open(output_path, 'wt') as f:\n",
    "        for line in output:\n",
    "            f.write(line)\n",
    "    return\n",
    "\n",
    "def save_output(output_path, output):\n",
    "    output = sorted(sorted(list(output), key=lambda x: x[0]), key=lambda x: len(x))\n",
    "    output = [\"'\"+\"', '\".join(x)+\"'\\n\" for x in output]\n",
    "    file = open(output_path, 'wt')\n",
    "    for line in output:\n",
    "        file.write(line)\n",
    "        \n",
    "    file.close()\n",
    "    return\n",
    "\n",
    "st = time.time()\n",
    "input_path = './data/power_input.txt'\n",
    "edges = sc.textFile(input_path).map(lambda x: tuple(sorted(x.split()))).collect()\n",
    "vertices = sc.textFile(input_path).flatMap(lambda x: x.split()).distinct().collect()\n",
    "original_number_of_edges = len(edges)\n",
    "original_adjacency_list = create_adjacency_list(edges, vertices)\n",
    "last_modularity = -3\n",
    "stopper_count = 0\n",
    "max_modularity = -sys.maxsize\n",
    "communities_with_max_modularity = None\n",
    "while len(edges) != 0:\n",
    "    if(stopper_count > 15):\n",
    "        break\n",
    "    adjacency_list = create_adjacency_list(edges, vertices)\n",
    "    edge_credits, communities = calculate_betweeness_and_communities(adjacency_list, vertices)\n",
    "    modularity = calculate_modularity(original_adjacency_list, communities, original_number_of_edges)\n",
    "    \n",
    "    if(modularity > max_modularity):\n",
    "#         print(len(communities), modularity)\n",
    "        max_modularity = modularity\n",
    "        communities_with_max_modularity = communities\n",
    "        stopper_count = 0\n",
    "    \n",
    "    if(modularity < last_modularity):\n",
    "        stopper_count += 1\n",
    "        \n",
    "    if(original_number_of_edges == len(edges)):\n",
    "        output = [\"{}, {}\\n\".format(edge, credit) for edge, credit in edge_credits]\n",
    "        save_edge_credits('./data/output2.1.txt', output)\n",
    "    \n",
    "    last_modularity = modularity\n",
    "    edges.remove(edge_credits[0][0])\n",
    "\n",
    "save_output(\"./data/output2.2.txt\", communities_with_max_modularity)\n",
    "print(time.time()-st)"
   ]
  },
  {
   "cell_type": "code",
   "execution_count": 113,
   "metadata": {},
   "outputs": [],
   "source": [
    "lm, c = BFS('e', original_adjacency_list)"
   ]
  },
  {
   "cell_type": "code",
   "execution_count": 114,
   "metadata": {},
   "outputs": [
    {
     "data": {
      "text/plain": [
       "{0: {'e': e, 0, 1},\n",
       " 1: {'z': z, 1, 1, 'd': d, 1, 1, 'f': f, 1, 1},\n",
       " 2: {'xz': xz, 2, 1, 'g': g, 2, 2, 'b': b, 2, 1},\n",
       " 3: {'a': a, 3, 1, 'c': c, 3, 1}}"
      ]
     },
     "execution_count": 114,
     "metadata": {},
     "output_type": "execute_result"
    }
   ],
   "source": [
    "lm.map"
   ]
  },
  {
   "cell_type": "code",
   "execution_count": 75,
   "metadata": {},
   "outputs": [
    {
     "name": "stdout",
     "output_type": "stream",
     "text": [
      "{'0', '1'}\n"
     ]
    }
   ],
   "source": [
    "lm, c = BFS('10', original_adjacency_list)"
   ]
  },
  {
   "cell_type": "code",
   "execution_count": 71,
   "metadata": {},
   "outputs": [
    {
     "data": {
      "text/plain": [
       "False"
      ]
     },
     "execution_count": 71,
     "metadata": {},
     "output_type": "execute_result"
    }
   ],
   "source": [
    "'0' in c"
   ]
  },
  {
   "cell_type": "code",
   "execution_count": 84,
   "metadata": {},
   "outputs": [],
   "source": [
    "# for v in vertices:\n",
    "#     lm, comm = BFS(v, original_adjacency_list)\n",
    "#     print(v, set(vertices) == comm)"
   ]
  },
  {
   "cell_type": "code",
   "execution_count": null,
   "metadata": {},
   "outputs": [],
   "source": []
  },
  {
   "cell_type": "code",
   "execution_count": null,
   "metadata": {},
   "outputs": [],
   "source": []
  },
  {
   "cell_type": "code",
   "execution_count": 25,
   "metadata": {},
   "outputs": [],
   "source": [
    "edge_map, c = calculate_betweeness_and_communities(original_adjacency_list)"
   ]
  },
  {
   "cell_type": "code",
   "execution_count": 38,
   "metadata": {},
   "outputs": [
    {
     "data": {
      "text/plain": [
       "{'4', '9'}"
      ]
     },
     "execution_count": 38,
     "metadata": {},
     "output_type": "execute_result"
    }
   ],
   "source": [
    "set(c[0]) -set(c[4])"
   ]
  },
  {
   "cell_type": "code",
   "execution_count": 12,
   "metadata": {},
   "outputs": [
    {
     "data": {
      "text/plain": [
       "False"
      ]
     },
     "execution_count": 12,
     "metadata": {},
     "output_type": "execute_result"
    }
   ],
   "source": [
    "[tuple(original_adjacency_list.keys())] == c"
   ]
  },
  {
   "cell_type": "code",
   "execution_count": 13,
   "metadata": {},
   "outputs": [
    {
     "data": {
      "text/plain": [
       "654"
      ]
     },
     "execution_count": 13,
     "metadata": {},
     "output_type": "execute_result"
    }
   ],
   "source": [
    "len(c)"
   ]
  },
  {
   "cell_type": "code",
   "execution_count": 11,
   "metadata": {},
   "outputs": [
    {
     "data": {
      "text/plain": [
       "0.6517053954329488"
      ]
     },
     "execution_count": 11,
     "metadata": {},
     "output_type": "execute_result"
    }
   ],
   "source": [
    "calculate_modularity(original_adjacency_list, [tuple(original_adjacency_list.keys())], original_number_of_edges)"
   ]
  },
  {
   "cell_type": "code",
   "execution_count": null,
   "metadata": {},
   "outputs": [],
   "source": [
    "'449', '468', '495', '502', '522', '530', '531', '546', '547', '551', '553', '554', '562'\n",
    "'589', '592', '597', '598', '602', '604', '610', '611', '623', '624', '627', '635', '640', '641'\n",
    "'108', '112', '138', '179', '202', '232', '238', '243', '250', '26', '261', '282', '284', '29', '319', '345', '388', '406', '416', '442', '54', '58', '59'\n",
    "'306', '378', '379', '434', '441', '544', '571', '590', '591', '634', '648', '649', '650', '651', '652', '653', '654', '655', '656', '657', '658', '659', '660', '661', '662'\n",
    "'587', '588', '595', '600', '601', '603', '605', '607', '608', '609', '612', '616', '617', '625', '626', '628', '629', '630', '631', '632', '633', '636', '637', '638', '639'\n",
    "'327', '344', '458', '463', '465', '471', '476', '485', '488', '494', '498', '499', '503', '506', '514', '516', '519', '535', '540', '543', '548', '549', '556', '575', '576', '579', '585'\n",
    "'323', '393', '408', '411', '413', '456', '518', '526', '564', '566', '593', '594', '596', '599', '606', '613', '614', '615', '618', '619', '620', '621', '622', '642', '643', '644', '645', '646', '647'\n",
    "'100', '113', '115', '121', '125', '134', '156', '174', '184', '194', '204', '206', '217', '252', '258', '265', '275', '278', '281', '283', '285', '290', '36', '37', '392', '55', '63', '68', '74', '82'\n",
    "'137', '143', '15', '165', '182', '187', '208', '209', '210', '215', '234', '235', '24', '242', '255', '268', '295', '304', '346', '355', '358', '404', '45', '47', '65', '7', '76', '79', '86', '99'\n",
    "'1', '126', '13', '136', '139', '148', '166', '167', '168', '169', '173', '196', '220', '23', '246', '247', '259', '260', '269', '286', '292', '3', '34', '396', '4', '48', '51', '85', '89', '90', '94', '95'\n",
    "'107', '110', '12', '131', '133', '135', '14', '140', '158', '16', '160', '162', '163', '18', '189', '192', '193', '226', '228', '245', '25', '251', '254', '276', '277', '28', '280', '289', '33', '46', '57', '60', '80', '81'\n",
    "'114', '118', '171', '180', '181', '185', '186', '195', '207', '240', '279', '297', '302', '325', '329', '331', '337', '347', '372', '383', '399', '402', '422', '429', '435', '445', '446', '447', '448', '50', '77', '84', '87', '92'\n",
    "'451', '455', '457', '461', '462', '464', '470', '472', '475', '477', '479', '480', '481', '484', '491', '497', '500', '507', '508', '511', '513', '523', '528', '529', '532', '536', '537', '539', '552', '557', '558', '560', '561', '565', '570', '574', '582', '583', '584'\n",
    "'101', '104', '105', '116', '117', '119', '120', '129', '130', '142', '144', '159', '161', '175', '197', '199', '200', '203', '205', '211', '221', '233', '244', '253', '267', '291', '296', '324', '357', '38', '384', '389', '39', '390', '391', '417', '66', '67', '71', '72', '73', '78', '8', '88'\n",
    "'102', '123', '146', '150', '170', '188', '198', '21', '214', '22', '224', '227', '229', '241', '256', '262', '27', '270', '273', '288', '309', '31', '321', '326', '328', '332', '341', '342', '367', '368', '41', '418', '437', '438', '439', '44', '440', '61', '69', '70', '75', '96', '97', '98'\n",
    "'103', '127', '164', '225', '257', '299', '300', '301', '307', '308', '314', '315', '317', '320', '322', '330', '336', '338', '339', '340', '343', '349', '350', '352', '371', '373', '374', '375', '377', '381', '382', '386', '397', '398', '400', '401', '405', '419', '421', '430', '431', '432', '433', '443', '444', '64'\n",
    "'450', '452', '453', '454', '459', '460', '466', '467', '469', '473', '474', '478', '482', '483', '486', '487', '489', '490', '492', '493', '496', '501', '504', '505', '509', '510', '512', '515', '517', '520', '521', '524', '525', '527', '533', '534', '538', '541', '542', '545', '550', '555', '559', '563', '567', '568', '569', '572', '573', '577', '578', '580', '581', '586'\n",
    "'10', '106', '109', '11', '111', '122', '124', '128', '132', '141', '149', '151', '152', '154', '155', '157', '17', '176', '183', '19', '190', '191', '20', '201', '212', '213', '216', '219', '223', '230', '231', '236', '239', '264', '266', '271', '287', '293', '294', '30', '303', '32', '353', '356', '40', '403', '42', '424', '43', '49', '5', '56', '6', '62', '83', '93'\n",
    "'145', '147', '153', '172', '177', '178', '2', '218', '222', '237', '248', '249', '263', '272', '274', '298', '305', '310', '311', '312', '313', '316', '318', '333', '334', '335', '348', '35', '351', '354', '359', '360', '361', '362', '363', '364', '365', '366', '369', '370', '376', '380', '385', '387', '394', '395', '407', '409', '410', '412', '414', '415', '420', '423', '425', '426', '427', '428', '436', '52', '53', '9', '91'\n"
   ]
  }
 ],
 "metadata": {
  "kernelspec": {
   "display_name": "Python 3",
   "language": "python",
   "name": "python3"
  },
  "language_info": {
   "codemirror_mode": {
    "name": "ipython",
    "version": 3
   },
   "file_extension": ".py",
   "mimetype": "text/x-python",
   "name": "python",
   "nbconvert_exporter": "python",
   "pygments_lexer": "ipython3",
   "version": "3.7.4"
  }
 },
 "nbformat": 4,
 "nbformat_minor": 4
}
